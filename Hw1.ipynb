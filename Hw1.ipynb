{
 "cells": [
  {
   "cell_type": "code",
   "execution_count": 2,
   "id": "3192e3c4-ddf1-4b34-ae6c-e716207662a5",
   "metadata": {},
   "outputs": [
    {
     "name": "stdout",
     "output_type": "stream",
     "text": [
      "(1.000002187126559+1.5821599452945184e-06j)\n"
     ]
    }
   ],
   "source": [
    "a = ((23-54)*(67/27))**((32/54)/(2535735379/2155))\n",
    "print(a)\n",
    "#so for the final we'll have to do this math in our head, right?"
   ]
  },
  {
   "cell_type": "code",
   "execution_count": null,
   "id": "fbe2f6cd-ac88-4cae-90a8-fbda324a8c91",
   "metadata": {},
   "outputs": [],
   "source": []
  }
 ],
 "metadata": {
  "kernelspec": {
   "display_name": "Python 3 (ipykernel)",
   "language": "python",
   "name": "python3"
  },
  "language_info": {
   "codemirror_mode": {
    "name": "ipython",
    "version": 3
   },
   "file_extension": ".py",
   "mimetype": "text/x-python",
   "name": "python",
   "nbconvert_exporter": "python",
   "pygments_lexer": "ipython3",
   "version": "3.11.4"
  }
 },
 "nbformat": 4,
 "nbformat_minor": 5
}
