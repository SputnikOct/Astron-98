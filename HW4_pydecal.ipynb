{
 "cells": [
  {
   "cell_type": "code",
   "execution_count": 7,
   "id": "248bc69e-3681-4099-9716-e7c30b71016d",
   "metadata": {},
   "outputs": [],
   "source": [
    "x = []\n",
    "for i in range(51):\n",
    "    x.append(i)\n",
    "#I made an error because i forgot to define x prior to the function and I forgot to add \":\" in the function."
   ]
  },
  {
   "cell_type": "code",
   "execution_count": 21,
   "id": "7e73b435-7939-45f2-89a5-27e4a0f83ddb",
   "metadata": {},
   "outputs": [],
   "source": [
    "y = []\n",
    "for i in range(20):\n",
    "    y.append(i)\n",
    "\n",
    "#def square(y):\n",
    "    #y2 = y**2\n",
    "    #return y\n",
    "#wasen't returning a squared list\n",
    "\n",
    "def squarev2(input):\n",
    "    newlist = [y**2 for y in input]\n",
    "    return newlist"
   ]
  },
  {
   "cell_type": "code",
   "execution_count": 34,
   "id": "75bca92a-042e-4141-a272-575c39d70ce4",
   "metadata": {},
   "outputs": [
    {
     "name": "stdout",
     "output_type": "stream",
     "text": [
      "[1, 3, 5, 7, 9, 21, 23, 25, 27, 29]\n"
     ]
    }
   ],
   "source": [
    "listA = []\n",
    "listB = []\n",
    "for i in range(11):\n",
    "    listA.append(i)\n",
    "for i in range(20,31):\n",
    "    listB.append(i)\n",
    "def oddonly(input):\n",
    "    oddif = [number for number in input if number % 2 != 0]\n",
    "    return oddif\n",
    "oddlistA = oddonly(listA)\n",
    "oddlistB = oddonly(listB)\n",
    "newlist = oddlistA + oddlistB\n",
    "print(newlist)\n",
    "#for my odd function I didn't realize but I initially wasen't returning anything"
   ]
  },
  {
   "cell_type": "code",
   "execution_count": 50,
   "id": "284a898d-b0c4-41f0-ba9d-94ece7670ce8",
   "metadata": {},
   "outputs": [
    {
     "name": "stdout",
     "output_type": "stream",
     "text": [
      "[1, 2, 3, 4, 5]\n",
      "[6, 7, 8, 9, 10]\n",
      "[11, 12, 13, 14, 15]\n",
      "[16, 17, 18, 19, 20]\n",
      "[21, 22, 23, 24, 25]\n"
     ]
    }
   ],
   "source": [
    "# My error was first a bunch of trial and error to even get the right numbers\n",
    "array_5x5 = [[0 for _ in range(5)] for _ in range(5)]\n",
    "count = 1\n",
    "for i in range(5):\n",
    "    for j in range(5):\n",
    "        array_5x5[i][j] = count\n",
    "        count += 1\n",
    "for row in array_5x5:\n",
    "    print(row)"
   ]
  },
  {
   "cell_type": "code",
   "execution_count": 51,
   "id": "1b597eda-1883-4dfe-8083-b54715cb39c9",
   "metadata": {},
   "outputs": [
    {
     "name": "stdout",
     "output_type": "stream",
     "text": [
      "[1, 2, '?', 4, 5]\n",
      "['?', 7, 8, '?', 10]\n",
      "[11, '?', 13, 14, '?']\n",
      "[16, 17, '?', 19, 20]\n",
      "['?', 22, 23, '?', 25]\n"
     ]
    }
   ],
   "source": [
    "\n",
    "array_5x5 = [[0 for _ in range(5)] for _ in range(5)]\n",
    "count = 1\n",
    "for i in range(5):\n",
    "    for j in range(5):\n",
    "        if count % 3 == 0:\n",
    "            array_5x5[i][j] = \"?\"\n",
    "        else:\n",
    "            array_5x5[i][j] = count\n",
    "        count += 1\n",
    "for row in array_5x5:\n",
    "    print(row)"
   ]
  },
  {
   "cell_type": "code",
   "execution_count": 47,
   "id": "611b3b13-23ad-4f60-9280-63bf20ab3d9e",
   "metadata": {},
   "outputs": [],
   "source": [
    "def remove_duplicates(input_list):\n",
    "    unique_list = list(set(input_list))\n",
    "    return unique_list"
   ]
  },
  {
   "cell_type": "code",
   "execution_count": null,
   "id": "b39ae0b7-ae55-488d-99ab-677c9c04a69f",
   "metadata": {},
   "outputs": [],
   "source": []
  }
 ],
 "metadata": {
  "kernelspec": {
   "display_name": "Python 3 (ipykernel)",
   "language": "python",
   "name": "python3"
  },
  "language_info": {
   "codemirror_mode": {
    "name": "ipython",
    "version": 3
   },
   "file_extension": ".py",
   "mimetype": "text/x-python",
   "name": "python",
   "nbconvert_exporter": "python",
   "pygments_lexer": "ipython3",
   "version": "3.11.4"
  }
 },
 "nbformat": 4,
 "nbformat_minor": 5
}
