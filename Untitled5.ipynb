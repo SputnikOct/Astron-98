{
 "cells": [
  {
   "cell_type": "code",
   "execution_count": 6,
   "id": "4d8f5a52-89f5-4445-b602-598ba21ad54a",
   "metadata": {},
   "outputs": [
    {
     "name": "stdout",
     "output_type": "stream",
     "text": [
      "[[1 1 1]\n",
      " [2 2 2]]\n"
     ]
    }
   ],
   "source": [
    "import numpy as np\n",
    "\n",
    "def findEqual(arr):\n",
    "    equal_rows = np.all(arr[:, 0][:, np.newaxis] == arr, axis=1)\n",
    "    return arr[equal_rows]\n",
    "\n",
    "arr = np.array([[1, 1, 1], [1, 2, 3], [2, 2, 2]])\n",
    "result = findEqual(arr)\n",
    "print(result)\n"
   ]
  },
  {
   "cell_type": "code",
   "execution_count": 5,
   "id": "ff3a45a0-aa79-41b3-8e10-3d7cbbf02647",
   "metadata": {},
   "outputs": [
    {
     "name": "stdout",
     "output_type": "stream",
     "text": [
      "[[0 1 0 1 0 1 0 1]\n",
      " [1 0 1 0 1 0 1 0]\n",
      " [0 1 0 1 0 1 0 1]\n",
      " [1 0 1 0 1 0 1 0]\n",
      " [0 1 0 1 0 1 0 1]\n",
      " [1 0 1 0 1 0 1 0]\n",
      " [0 1 0 1 0 1 0 1]\n",
      " [1 0 1 0 1 0 1 0]]\n"
     ]
    }
   ],
   "source": [
    "import numpy as np\n",
    "\n",
    "def checkerboard():\n",
    "    board = np.zeros((8, 8), dtype=int)\n",
    "    \n",
    "    board[1::2, ::2] = 1\n",
    "    board[::2, 1::2] = 1\n",
    "\n",
    "    return board\n",
    "\n",
    "result = checkerboard()\n",
    "print(result)\n"
   ]
  },
  {
   "cell_type": "code",
   "execution_count": 9,
   "id": "60034c20-e0dd-43f7-8104-1ececebb7954",
   "metadata": {},
   "outputs": [
    {
     "name": "stdout",
     "output_type": "stream",
     "text": [
      "['t h i s' 'i s' 'r e a l l y' 'h a r d']\n"
     ]
    }
   ],
   "source": [
    "import numpy as np\n",
    "\n",
    "def spaceBetween(stringArr):\n",
    "    \n",
    "    separated_strings = np.array([' '.join(list(word)) for word in stringArr], dtype=str)\n",
    "    return separated_strings\n",
    "\n",
    "# Example usage\n",
    "myarr = np.array(['this', 'is', 'really', 'hard'])\n",
    "result = spaceBetween(myarr)\n",
    "print(result)\n"
   ]
  },
  {
   "cell_type": "code",
   "execution_count": 12,
   "id": "89ddd603-f230-4713-ac0c-9abd5f2a9abc",
   "metadata": {},
   "outputs": [
    {
     "name": "stdout",
     "output_type": "stream",
     "text": [
      "Original Matrix:\n",
      "[[35 38 30  2 37]\n",
      " [42 38 35 30  2]\n",
      " [15 42 28 17 10]\n",
      " [12 14 11 18 19]]\n",
      "\n",
      "Sorted Matrix:\n",
      "[[12 14 11  2  2]\n",
      " [15 38 28 17 10]\n",
      " [35 38 30 18 19]\n",
      " [42 42 35 30 37]]\n"
     ]
    }
   ],
   "source": [
    "import numpy as np\n",
    "\n",
    "def sorting(bigMatrix):\n",
    "    \"\"\"\n",
    "    Sort the matrix along the columns.\n",
    "\n",
    "    Parameters:\n",
    "    bigMatrix (numpy.ndarray): Input multidimensional matrix.\n",
    "\n",
    "    Returns:\n",
    "    numpy.ndarray: Sorted matrix along the columns.\n",
    "    \"\"\"\n",
    "    # Use numpy.sort with axis=0 to sort along columns\n",
    "    sorted_matrix = np.sort(bigMatrix, axis=0)\n",
    "\n",
    "    return sorted_matrix\n",
    "\n",
    "# Example usage\n",
    "np.random.seed(12345)\n",
    "a = np.random.randint(1, 50, (4, 5))\n",
    "print(\"Original Matrix:\")\n",
    "print(a)\n",
    "\n",
    "result = sorting(a)\n",
    "print(\"\\nSorted Matrix:\")\n",
    "print(result)\n"
   ]
  }
 ],
 "metadata": {
  "kernelspec": {
   "display_name": "Python 3 (ipykernel)",
   "language": "python",
   "name": "python3"
  },
  "language_info": {
   "codemirror_mode": {
    "name": "ipython",
    "version": 3
   },
   "file_extension": ".py",
   "mimetype": "text/x-python",
   "name": "python",
   "nbconvert_exporter": "python",
   "pygments_lexer": "ipython3",
   "version": "3.11.4"
  }
 },
 "nbformat": 4,
 "nbformat_minor": 5
}
