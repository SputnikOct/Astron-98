{
 "cells": [
  {
   "cell_type": "code",
   "execution_count": 136,
   "id": "4a41729b-e2a7-4e0f-9c4f-8a383596feea",
   "metadata": {},
   "outputs": [],
   "source": [
    "#1\n",
    "def power(x, y):\n",
    "    total = 1\n",
    "    for i in range(y):\n",
    "        total *= x\n",
    "    print(total)"
   ]
  },
  {
   "cell_type": "code",
   "execution_count": 137,
   "id": "51a48e62-f1ba-4e05-a4d2-04167ee339c1",
   "metadata": {},
   "outputs": [
    {
     "name": "stdout",
     "output_type": "stream",
     "text": [
      "4\n"
     ]
    }
   ],
   "source": [
    "power(2,2)"
   ]
  },
  {
   "cell_type": "code",
   "execution_count": 16,
   "id": "6683a98d-526b-4935-8eb5-0e040a7b66da",
   "metadata": {},
   "outputs": [],
   "source": [
    "#2\n",
    "def min_max(*args):\n",
    "   min1 = min(*args)\n",
    "   max1 = max(*args)\n",
    "   return min1,max1"
   ]
  },
  {
   "cell_type": "code",
   "execution_count": 17,
   "id": "0ff06b5a-a25c-4ea1-9a8a-165ad41d2e45",
   "metadata": {},
   "outputs": [
    {
     "data": {
      "text/plain": [
       "(7, 10)"
      ]
     },
     "execution_count": 17,
     "metadata": {},
     "output_type": "execute_result"
    }
   ],
   "source": [
    "min_max(7,9,10)"
   ]
  },
  {
   "cell_type": "code",
   "execution_count": 138,
   "id": "749142f5-1a92-4a72-9ce8-c65fc0d8cd01",
   "metadata": {},
   "outputs": [],
   "source": [
    "#3\n",
    "def leap_year(year):\n",
    "    if year % 4 == 0:\n",
    "        if year % 100 == 0:\n",
    "            if year % 400 == 0:\n",
    "                return True\n",
    "            else:\n",
    "                return False\n",
    "        else:\n",
    "            return True\n",
    "    else:\n",
    "        return False"
   ]
  },
  {
   "cell_type": "code",
   "execution_count": 20,
   "id": "cd22539d-109d-4f07-b96c-76d1e68f9cc6",
   "metadata": {},
   "outputs": [],
   "source": [
    "#4\n",
    "def bmi(x,y):\n",
    "    weight = x\n",
    "    height = y**2\n",
    "    bmi = weight/height\n",
    "    return bmi"
   ]
  },
  {
   "cell_type": "code",
   "execution_count": 21,
   "id": "8f2c5dd8-7023-4b0a-aa02-c4ea5dd87dd6",
   "metadata": {},
   "outputs": [
    {
     "data": {
      "text/plain": [
       "21.604938271604937"
      ]
     },
     "execution_count": 21,
     "metadata": {},
     "output_type": "execute_result"
    }
   ],
   "source": [
    "bmi(70,1.8)"
   ]
  },
  {
   "cell_type": "code",
   "execution_count": 28,
   "id": "4c71ad91-8317-437a-81ba-f28711224d44",
   "metadata": {},
   "outputs": [],
   "source": [
    "#4\n",
    "#I wasen't quite sure what you mean by using properties of a string without fully converting it into a string?\n",
    "def rotatingdigits(x):\n",
    "    dig = str(x % 10)\n",
    "    dig1 = str(x // 10)\n",
    "    ans = int(dig + dig1)\n",
    "    print(ans)"
   ]
  },
  {
   "cell_type": "code",
   "execution_count": 29,
   "id": "7e163f8e-2fa3-40fb-8ed2-4ebf4582b03e",
   "metadata": {},
   "outputs": [
    {
     "name": "stdout",
     "output_type": "stream",
     "text": [
      "738535\n"
     ]
    }
   ],
   "source": [
    "rotatingdigits(385357)"
   ]
  },
  {
   "cell_type": "code",
   "execution_count": 64,
   "id": "98640fb4-89da-4020-8706-495f8834506e",
   "metadata": {},
   "outputs": [],
   "source": [
    "#5a\n",
    "def find_max(numbers):\n",
    "    max_value = float(\"-inf\")\n",
    "    for num in numbers:\n",
    "        if num > max_value:\n",
    "            max_value = num\n",
    "    \n",
    "    print(max_value)"
   ]
  },
  {
   "cell_type": "code",
   "execution_count": 70,
   "id": "1ec8d7b0-2283-4143-9a0b-45abe9b05b8c",
   "metadata": {},
   "outputs": [],
   "source": [
    "#5b\n",
    "def find_min(numbers):\n",
    "    min_value = float(\"inf\")\n",
    "    for num in numbers:\n",
    "        if num < min_value:\n",
    "            min_value = num\n",
    "    \n",
    "    print(min_value)"
   ]
  },
  {
   "cell_type": "code",
   "execution_count": 71,
   "id": "81a709ca-327f-4e23-85dc-740e0d118f53",
   "metadata": {},
   "outputs": [
    {
     "name": "stdout",
     "output_type": "stream",
     "text": [
      "9\n",
      "2\n"
     ]
    }
   ],
   "source": [
    "find_max_test = [2,6,8,3,8,9]\n",
    "find_max(find_max_test)\n",
    "find_min_test = [2,6,8,3,8,9]\n",
    "find_min(find_min_test)\n"
   ]
  },
  {
   "cell_type": "code",
   "execution_count": 79,
   "id": "be7ec347-3c80-43cc-bd9b-5810c37089a7",
   "metadata": {},
   "outputs": [],
   "source": [
    "#5c\n",
    "def find_max(numbers):\n",
    "    max_value = float(\"-inf\")\n",
    "    index = 0\n",
    "    while index < len(numbers):\n",
    "        num = numbers[index]\n",
    "        if num > max_value:\n",
    "            max_value = num\n",
    "        index += 1\n",
    "    print(max_value)"
   ]
  },
  {
   "cell_type": "code",
   "execution_count": 82,
   "id": "52212f03-6aa8-41c0-bf9a-b37aa3308824",
   "metadata": {},
   "outputs": [],
   "source": [
    "#5d\n",
    "def find_min(numbers):\n",
    "    min_value = float(\"inf\")\n",
    "    index = 0\n",
    "    while index < len(numbers):\n",
    "        num = numbers[index]\n",
    "        if num < min_value:\n",
    "            min_value = num\n",
    "        index += 1\n",
    "    print(min_value)"
   ]
  },
  {
   "cell_type": "code",
   "execution_count": 83,
   "id": "5ac63d05-b948-4345-888f-913d90b659bb",
   "metadata": {},
   "outputs": [
    {
     "name": "stdout",
     "output_type": "stream",
     "text": [
      "9\n",
      "100\n"
     ]
    }
   ],
   "source": [
    "my_list = [12, 45, 67, 23, 9, 56, 89, 100]\n",
    "min = find_min(my_list)\n",
    "my_list = [12, 45, 67, 23, 9, 56, 89, 100]\n",
    "max = find_max(my_list)"
   ]
  },
  {
   "cell_type": "code",
   "execution_count": 97,
   "id": "f478cd23-e0cc-4fcd-b670-3e473dac30ba",
   "metadata": {},
   "outputs": [],
   "source": [
    "#6a\n",
    "def forproduct(numbers):\n",
    "    product = 1\n",
    "    for num in numbers:\n",
    "        product = num * product\n",
    "    print(product)"
   ]
  },
  {
   "cell_type": "code",
   "execution_count": 98,
   "id": "d1a6eb8f-babf-426d-a55a-42615c98ff8d",
   "metadata": {},
   "outputs": [
    {
     "name": "stdout",
     "output_type": "stream",
     "text": [
      "5\n"
     ]
    }
   ],
   "source": [
    "\n",
    "test = [1,5]\n",
    "forproduct(test)"
   ]
  },
  {
   "cell_type": "code",
   "execution_count": 99,
   "id": "a1e40275-e982-43e8-a23f-b615e10ad55e",
   "metadata": {},
   "outputs": [],
   "source": [
    "#6b\n",
    "def whileproduct(numbers):\n",
    "    product = 1\n",
    "    index = 0\n",
    "    while index < len(numbers):\n",
    "        product *= numbers[index]\n",
    "        index += 1\n",
    "    print(product)"
   ]
  },
  {
   "cell_type": "code",
   "execution_count": 100,
   "id": "df313500-c040-4a51-9458-c0c7cecb4844",
   "metadata": {},
   "outputs": [
    {
     "name": "stdout",
     "output_type": "stream",
     "text": [
      "5\n"
     ]
    }
   ],
   "source": [
    "whileproduct(test)"
   ]
  },
  {
   "cell_type": "code",
   "execution_count": 105,
   "id": "01e6e0a7-a496-4fee-b6a6-80d2af2a8d89",
   "metadata": {},
   "outputs": [],
   "source": [
    "#7a\n",
    "def forvowels(letters):\n",
    "    letters.lower()\n",
    "    vowels = \"aeiou\"\n",
    "    counter = 0\n",
    "    for char in letters:\n",
    "        if char in vowels:\n",
    "            counter += 1\n",
    "    \n",
    "    print(counter)"
   ]
  },
  {
   "cell_type": "code",
   "execution_count": 139,
   "id": "0342705e-65d1-43f8-b2e6-129ccba8eec8",
   "metadata": {},
   "outputs": [
    {
     "name": "stdout",
     "output_type": "stream",
     "text": [
      "2\n"
     ]
    }
   ],
   "source": [
    "forvowels('eel')"
   ]
  },
  {
   "cell_type": "code",
   "execution_count": 144,
   "id": "85e433e4-1207-4a05-bab4-cedcc41833ad",
   "metadata": {},
   "outputs": [],
   "source": [
    "#7b\n",
    "def whilevowels(letters):\n",
    "    index = 0\n",
    "    vowels = \"aeiou\"\n",
    "    counter = 0\n",
    "    while index < len(letters):\n",
    "        char = letters[index]\n",
    "        if char in vowels:\n",
    "            counter += 1\n",
    "        index += 1\n",
    "    \n",
    "    print(counter)"
   ]
  },
  {
   "cell_type": "code",
   "execution_count": 145,
   "id": "b1df5b2a-ae0f-4831-876a-e675a5101b4d",
   "metadata": {},
   "outputs": [
    {
     "name": "stdout",
     "output_type": "stream",
     "text": [
      "2\n"
     ]
    }
   ],
   "source": [
    "whilevowels('eel')"
   ]
  },
  {
   "cell_type": "code",
   "execution_count": 142,
   "id": "cd493cb7-f5da-4db2-9ad4-72fe2298d1ca",
   "metadata": {},
   "outputs": [],
   "source": [
    "#8\n",
    "#couldn't figure out a for loop on this one\n",
    "def add_numbers(*args):\n",
    "    total = 0\n",
    "    index = 0\n",
    "    while index < len(args):\n",
    "        total += args[index]\n",
    "        index += 1\n",
    "    \n",
    "    print(total)"
   ]
  },
  {
   "cell_type": "code",
   "execution_count": 143,
   "id": "b73c1d6b-1c3b-4b01-931c-42ea124497d9",
   "metadata": {},
   "outputs": [
    {
     "name": "stdout",
     "output_type": "stream",
     "text": [
      "12\n"
     ]
    }
   ],
   "source": [
    "\n",
    "add_numbers(3,9)"
   ]
  },
  {
   "cell_type": "code",
   "execution_count": null,
   "id": "b3e60cf7-96ed-435c-bfdb-740a59382eee",
   "metadata": {},
   "outputs": [],
   "source": []
  }
 ],
 "metadata": {
  "kernelspec": {
   "display_name": "Python 3 (ipykernel)",
   "language": "python",
   "name": "python3"
  },
  "language_info": {
   "codemirror_mode": {
    "name": "ipython",
    "version": 3
   },
   "file_extension": ".py",
   "mimetype": "text/x-python",
   "name": "python",
   "nbconvert_exporter": "python",
   "pygments_lexer": "ipython3",
   "version": "3.11.4"
  }
 },
 "nbformat": 4,
 "nbformat_minor": 5
}
